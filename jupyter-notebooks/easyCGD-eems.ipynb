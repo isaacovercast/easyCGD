{
 "cells": [
  {
   "cell_type": "code",
   "execution_count": 4,
   "metadata": {},
   "outputs": [
    {
     "name": "stdout",
     "output_type": "stream",
     "text": [
      "20.003603\t-105.558131\n",
      "19.310421\t-105.019800\n",
      "18.915955\t-104.162867\n",
      "19.3803917\t-103.797571\n",
      "19.941649\t-104.239771\n",
      "20.240864\t-104.712183\n",
      "20.003603\t-105.558131\n"
     ]
    }
   ],
   "source": [
    "%%bash\n",
    "cd eems\n",
    "cat nooutgeckos.outer"
   ]
  },
  {
   "cell_type": "markdown",
   "metadata": {},
   "source": [
    "## Docs\n",
    "\n",
    "* [EEMS Manual](file:///home/chronos/u-1e225e5c1f8a1badcbcb2e897c2e674a463e57c3/Downloads/EEMS-doc.pdf)  \n",
    "* [EEMS Github](https://github.com/dipetkov/eems)\n",
    "\n",
    "This is a useful polygon generating tool:\n",
    "http://www.headwallphotonics.com/polygon-tool\n",
    "\n",
    "Another one: http://www.birdtheme.org/useful/v3tool.html\n",
    "\n",
    "Marine Bioclim\n",
    "https://figshare.com/collections/MARSPEC_ocean_climate_layers_for_marine_spatial_ecology/3305499\n",
    "Get the data here: http://www.marspec.org/"
   ]
  },
  {
   "cell_type": "code",
   "execution_count": 10,
   "metadata": {},
   "outputs": [
    {
     "name": "stdout",
     "output_type": "stream",
     "text": [
      "ABCReefs-chain1  ABCReefs.outer       nooutgeckos.coord  params.ini\n",
      "ABCReefs.coord\t ABCReefs_params.ini  nooutgeckos.diffs\n",
      "ABCReefs.diffs\t nooutgeckos-chain1   nooutgeckos.outer\n",
      "8.947334745435896   93.28472961502484\n",
      "-10.079885806149496 93.24078430252484\n",
      "-12.10660985505046  138.02105774002484\n",
      "8.25211937410743    136.65875305252484\n",
      "8.947334745435896   93.28472961502484\n",
      "114.508821 -8.020223\n",
      "115.443875 -8.696745\n",
      "96.188357 5.313876\n",
      "130.10615 -1.169178\n",
      "110.448158 -5.828617\n",
      "119.330778 -5.049371\n",
      "123.031623 -8.489136\n",
      "116.577167 -8.213207\n",
      "124.769963 1.457749\n",
      "117.622219 -0.449894\n"
     ]
    }
   ],
   "source": [
    "!ls eems\n",
    "!cat eems/ABCReefs.outer\n",
    "!cat eems/ABCReefs.coord"
   ]
  },
  {
   "cell_type": "code",
   "execution_count": 1,
   "metadata": {},
   "outputs": [],
   "source": [
    "%load_ext rpy2.ipython\n"
   ]
  },
  {
   "cell_type": "code",
   "execution_count": 6,
   "metadata": {},
   "outputs": [
    {
     "name": "stdout",
     "output_type": "stream",
     "text": [
      "\n",
      "Error in `$<-.data.frame`(`*tmp*`, \"pch\", value = 1) : \n",
      "  replacement has 1 row, data has 0\n"
     ]
    }
   ],
   "source": [
    "%%R\n",
    "library(rEEMSplots)\n",
    "mcmcpath = \"/home/isaac/easyCGD/jupyter-notebooks/eems/ABCReefs-chain1\"\n",
    "plotpath = \"/home/isaac/easyCGD/jupyter-notebooks/eems/ABCReefs_eemsPlots\"\n",
    "eems.plots(mcmcpath, plotpath, longlat = FALSE, add.map=TRUE, projection.in = \"+proj=longlat +datum=WGS84\",\n",
    "           res=300, add.demes=TRUE, projection.out = \"+proj=merc +datum=WGS84\", lwd.map = 2)"
   ]
  }
 ],
 "metadata": {
  "kernelspec": {
   "display_name": "Python 2",
   "language": "python",
   "name": "python2"
  },
  "language_info": {
   "codemirror_mode": {
    "name": "ipython",
    "version": 2
   },
   "file_extension": ".py",
   "mimetype": "text/x-python",
   "name": "python",
   "nbconvert_exporter": "python",
   "pygments_lexer": "ipython2",
   "version": "2.7.15"
  }
 },
 "nbformat": 4,
 "nbformat_minor": 2
}
